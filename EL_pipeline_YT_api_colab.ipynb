{
  "cells": [
    {
      "cell_type": "code",
      "execution_count": null,
      "metadata": {
        "id": "H67FMWR9dOGL"
      },
      "outputs": [],
      "source": [
        "\n",
        "import json\n",
        "from googleapiclient.discovery import build\n",
        "import pandas as pd\n",
        "from google.colab import files\n"
      ]
    },
    {
      "cell_type": "code",
      "execution_count": null,
      "metadata": {
        "id": "VwaZtYD8G8C-"
      },
      "outputs": [],
      "source": [
        "youtube_apikey = # please insert your youtube api key here\n",
        "\n",
        "# sample YouTube Channels\n",
        "veritasium_channel_id = 'UCHnyfMqiRRG1u-2MsSQLbXA'\n",
        "vox_channel_id = 'UCLXo7UDZvByw2ixzpQCufnA'\n",
        "\n",
        "\n",
        "channel_ids = [veritasium_channel_id, vox_channel_id,\n",
        "              # insert channel_id here\n",
        "              ]\n"
      ]
    },
    {
      "cell_type": "code",
      "execution_count": null,
      "metadata": {
        "id": "DFJcfY_tnlnf"
      },
      "outputs": [],
      "source": [
        "  api_service_name = \"youtube\"\n",
        "  api_version = \"v3\"\n",
        "\n",
        "    # Get credentials and create an API client\n",
        "  youtube = build(\n",
        "        api_service_name, api_version, developerKey=youtube_apikey)\n"
      ]
    },
    {
      "cell_type": "markdown",
      "metadata": {
        "id": "J-5hO_9Ch_xi"
      },
      "source": [
        "## **Custom Function for getting Youtube Channel Info**"
      ]
    },
    {
      "cell_type": "code",
      "execution_count": null,
      "metadata": {
        "id": "wTOEGwcfck-T"
      },
      "outputs": [],
      "source": [
        "  # Custom Function to extract Youtube Channel's Information such as the following: channel_ID, channel_Name, subscribers, custom_url, total_Videos, country, v\n",
        "  def extract_yt_channel_info(youtube, channel_ids):\n",
        "\n",
        "     \"\"\"\n",
        "  Get the YouTube's channel information such as the following:\n",
        "    channel_ID, channel_Name, subscribers, custom_url, total_Videos, country, etc.\n",
        "\n",
        "  Args:\n",
        "      youtube (object): A Resource object with methods for interacting with the Youtube Data API.\n",
        "      channel_ids (list): A list containing the unique YouTube Channel's ids provided by YouTube\n",
        "\n",
        "  Returns:\n",
        "      A list of dictionaries containing the Channel's information.\n",
        "\n",
        "  Example:\n",
        "      video_data = get_video_info('googleapiclient.discovery.Resource object at 0x7ef834a10ed0' , ['insert_list_of_unique_channel_ids'])\n",
        "\n",
        "      returns all the channel's information of each channel_ids\n",
        "\n",
        "      \"\"\"\n",
        "\n",
        "      channel_Data = []\n",
        "\n",
        "      request = youtube.channels().list(\n",
        "        part=\"snippet,contentDetails,statistics\",\n",
        "        id= ','.join(channel_ids)\n",
        "      )\n",
        "      response = request.execute()\n",
        "\n",
        "      for item in response['items']:\n",
        "          info_to_keep = {\n",
        "                          'snippet': ['title', 'customUrl'],\n",
        "                          'statistics': ['subscriberCount', 'videoCount'],\n",
        "                          }\n",
        "\n",
        "          data = {}\n",
        "          data['channel_ID'] = item['id']\n",
        "\n",
        "          for k in info_to_keep.keys():\n",
        "            for v in info_to_keep[k]:\n",
        "              try:\n",
        "                data[v] = item[k][v]\n",
        "              except:\n",
        "                data[v] = None\n",
        "\n",
        "          data['playlist_ID'] = item['contentDetails']['relatedPlaylists']['uploads']\n",
        "\n",
        "          channel_Data.append(data)\n",
        "\n",
        "      return channel_Data\n",
        "\n"
      ]
    },
    {
      "cell_type": "code",
      "execution_count": null,
      "metadata": {
        "colab": {
          "base_uri": "https://localhost:8080/"
        },
        "id": "8wvnrRzSPsuS",
        "outputId": "181d8e57-0dfa-475b-edd5-be526ee79ec0"
      },
      "outputs": [
        {
          "name": "stdout",
          "output_type": "stream",
          "text": [
            "                 channel_ID       title    customUrl subscriberCount  \\\n",
            "0  UCHnyfMqiRRG1u-2MsSQLbXA  Veritasium  @veritasium        17500000   \n",
            "1  UCLXo7UDZvByw2ixzpQCufnA         Vox         @vox        12500000   \n",
            "\n",
            "  videoCount               playlist_ID  \n",
            "0        431  UUHnyfMqiRRG1u-2MsSQLbXA  \n",
            "1       1788  UULXo7UDZvByw2ixzpQCufnA  \n"
          ]
        }
      ],
      "source": [
        "channel_info = extract_yt_channel_info(youtube, channel_ids)\n",
        "\n",
        "channel_info_df = pd.DataFrame(channel_info)\n",
        "\n",
        "print(channel_info_df)"
      ]
    },
    {
      "cell_type": "markdown",
      "metadata": {
        "id": "so1J-8Frhvv-"
      },
      "source": [
        "## **Get the playlist_ID of each Youtube Channel**\n"
      ]
    },
    {
      "cell_type": "code",
      "execution_count": null,
      "metadata": {
        "colab": {
          "base_uri": "https://localhost:8080/"
        },
        "id": "Dua3N7aCQY0D",
        "outputId": "ac4c707e-9b8a-4b3d-8427-6929382db5b8"
      },
      "outputs": [
        {
          "name": "stdout",
          "output_type": "stream",
          "text": [
            "['UUHnyfMqiRRG1u-2MsSQLbXA', 'UULXo7UDZvByw2ixzpQCufnA']\n"
          ]
        }
      ],
      "source": [
        "\n",
        "get_playlist_id = [item['playlist_ID'] for item in channel_info]\n",
        "\n",
        "print(get_playlist_id)"
      ]
    },
    {
      "cell_type": "markdown",
      "metadata": {
        "id": "MMbY3sJ8ifWq"
      },
      "source": [
        "## **Function for Getting all Video_IDs in each YouTube Channel**\n"
      ]
    },
    {
      "cell_type": "code",
      "execution_count": null,
      "metadata": {
        "id": "JvhQAFrnjnHa"
      },
      "outputs": [],
      "source": [
        "# Custom Function to get all video_Ids on a channel\n",
        "def get_video_ID(youtube, playlist_ids):\n",
        "\n",
        "    \"\"\"\n",
        "  Get each video's unique id\n",
        "\n",
        "  Args:\n",
        "      youtube (object): A Resource object with methods for interacting with the Youtube Data API.\n",
        "      playlist_ids (list): A list containing the unique playlist ids provided by YouTube\n",
        "\n",
        "  Returns:\n",
        "      A list of dictionaries containing the video ids.\n",
        "\n",
        "  Example:\n",
        "      video_data = get_video_info('googleapiclient.discovery.Resource object at 0x7ef834a10ed0' , ['insert_list_unique_playlist_id'])\n",
        "\n",
        "      returns all the video ids of each playlist_id\n",
        "\n",
        "  \"\"\"\n",
        "\n",
        "    video_AllData = []\n",
        "    for playlist_id in playlist_ids:\n",
        "        request = youtube.playlistItems().list(\n",
        "                part=\"contentDetails\",\n",
        "                playlistId=playlist_id,\n",
        "                maxResults = 50\n",
        "        )\n",
        "\n",
        "        response = request.execute()\n",
        "\n",
        "        for video in response['items']:\n",
        "            data = {\n",
        "                    'video_ID': video['contentDetails']['videoId'],\n",
        "            }\n",
        "\n",
        "            video_AllData.append(data)\n",
        "\n",
        "        next_page_token = response.get('nextPageToken')\n",
        "\n",
        "        while next_page_token is not None:\n",
        "            request = youtube.playlistItems().list(\n",
        "                part=\"contentDetails\",\n",
        "                playlistId=playlist_id,\n",
        "                maxResults = 50,\n",
        "                pageToken = next_page_token\n",
        "            )\n",
        "\n",
        "            response = request.execute()\n",
        "\n",
        "            for video in response['items']:\n",
        "                data = {\n",
        "                    'video_ID': video['contentDetails']['videoId'],\n",
        "                }\n",
        "\n",
        "                video_AllData.append(data)\n",
        "\n",
        "            next_page_token = response.get('nextPageToken')\n",
        "\n",
        "    return video_AllData\n",
        "\n",
        "\n"
      ]
    },
    {
      "cell_type": "code",
      "execution_count": null,
      "metadata": {
        "colab": {
          "base_uri": "https://localhost:8080/"
        },
        "id": "_sPZq0hUqZqS",
        "outputId": "370f665e-f5d9-4026-8c21-a6a9661b071d"
      },
      "outputs": [
        {
          "name": "stdout",
          "output_type": "stream",
          "text": [
            "(2214, 1)\n"
          ]
        }
      ],
      "source": [
        "video_ids = get_video_ID(youtube, get_playlist_id)\n",
        "\n",
        "\n",
        "get_video_id_list = [video['video_ID'] for video in video_ids]\n",
        "\n",
        "get_video_id_list_df = pd.DataFrame(get_video_id_list)\n",
        "\n",
        "# check the df shape\n",
        "print(get_video_id_list_df.shape)\n"
      ]
    },
    {
      "cell_type": "markdown",
      "metadata": {
        "id": "eT90HshYr3MC"
      },
      "source": [
        "## **Getting All video infos per Video_IDs**"
      ]
    },
    {
      "cell_type": "code",
      "execution_count": null,
      "metadata": {
        "id": "r7IUPlz0vYiy"
      },
      "outputs": [],
      "source": [
        "# Custom Function to get all video infos on all videos per channel\n",
        "def get_video_info(youtube, video_ids):\n",
        "\n",
        "  \"\"\"\n",
        "  Get each video's data such as the following:\n",
        "  title, published date, view count, like count, dislike count, favorite count, comment count, duration, tags, etc.\n",
        "\n",
        "  Args:\n",
        "      youtube (object): A Resource object with methods for interacting with the Youtube Data API.\n",
        "      video_ids (list): A list containing the unique video ids provided by YouTube\n",
        "\n",
        "  Returns:\n",
        "      A list of dictionaries containing the video data.\n",
        "\n",
        "  Example:\n",
        "      video_data = get_video_info('googleapiclient.discovery.Resource object at 0x7ef834a10ed0' , ['uFGhya14xBdxMX3K'])\n",
        "\n",
        "      returns the details such as the following:\n",
        "      title, published date, view count, like count, dislike count, favorite count, comment count, duration, tags, etc.\n",
        "\n",
        "      of the video with the video_ID 'uFGhya14xBdxMX3K'\n",
        "\n",
        "  \"\"\"\n",
        "\n",
        "  video_all_data = []\n",
        "  for video_id in video_ids:\n",
        "      request = youtube.videos().list(\n",
        "              part=\"snippet, contentDetails, statistics\",\n",
        "              id=video_id\n",
        "          )\n",
        "\n",
        "      response = request.execute()\n",
        "\n",
        "      for item in response['items']:\n",
        "                info_to_keep = {\n",
        "                                'snippet': ['title', 'publishedAt'],\n",
        "                                'statistics': ['viewCount', 'likeCount', 'dislikeCount', 'FavoriteCount', 'commentCount'],\n",
        "                                'contentDetails': ['duration']\n",
        "                                }\n",
        "\n",
        "                data = {}\n",
        "                data['video_ID'] = item['id']\n",
        "                data['channel_ID'] = item['snippet'].get('channelId', None)\n",
        "\n",
        "\n",
        "                for k in info_to_keep.keys():\n",
        "                  for v in info_to_keep[k]:\n",
        "                    try:\n",
        "                      data[v] = item[k][v]\n",
        "                    except:\n",
        "                      data[v] = None\n",
        "\n",
        "                data['list_of_tags'] = item['snippet'].get('tags', [])\n",
        "\n",
        "                video_all_data.append(data)\n",
        "\n",
        "  return video_all_data\n",
        "\n",
        "\n",
        "\n"
      ]
    },
    {
      "cell_type": "code",
      "execution_count": null,
      "metadata": {
        "colab": {
          "base_uri": "https://localhost:8080/"
        },
        "id": "z7Srl9NV0HMk",
        "outputId": "76ea2be0-74e4-4470-faec-7c0aa2f928f8"
      },
      "outputs": [
        {
          "name": "stdout",
          "output_type": "stream",
          "text": [
            "      video_ID                channel_ID  \\\n",
            "0  qJZ1Ez28C-A  UCHnyfMqiRRG1u-2MsSQLbXA   \n",
            "1  dFVrncgIvos  UCHnyfMqiRRG1u-2MsSQLbXA   \n",
            "2  mqo1lQL59VI  UCHnyfMqiRRG1u-2MsSQLbXA   \n",
            "3  P_fHJIYENdI  UCHnyfMqiRRG1u-2MsSQLbXA   \n",
            "4  88bMVbx1dzM  UCHnyfMqiRRG1u-2MsSQLbXA   \n",
            "\n",
            "                                               title           publishedAt  \\\n",
            "0  Something Strange Happens When You Trust Quant...  2025-03-05T02:22:56Z   \n",
            "1  The Google Interview Question Everyone Gets Wrong  2025-02-18T16:03:35Z   \n",
            "2               This Is The Perfect Bowling Strategy  2025-02-14T16:49:48Z   \n",
            "3             The Most Useful Thing AI Has Ever Done  2025-02-10T14:03:41Z   \n",
            "4                  What if you just keep zooming in?  2025-02-05T15:02:34Z   \n",
            "\n",
            "  viewCount likeCount dislikeCount FavoriteCount commentCount  duration  \\\n",
            "0   7581678    252933         None          None        17072  PT33M37S   \n",
            "1   6032233    166658         None          None        16825  PT20M13S   \n",
            "2   1433424     69211         None          None          667    PT2M6S   \n",
            "3   7822753    273462         None          None        11492  PT24M52S   \n",
            "4  10840499    223729         None          None         8215  PT21M29S   \n",
            "\n",
            "                                        list_of_tags  \n",
            "0  [veritasium, science, physics, math, quantum m...  \n",
            "1  [veritasium, science, physics, Veritasium, eng...  \n",
            "2  [veritasium, science, physics, math, bowling, ...  \n",
            "3  [veritasium, science, physics, nobel prize, pr...  \n",
            "4                     [veritasium, science, physics]  \n"
          ]
        }
      ],
      "source": [
        "video_data = get_video_info(youtube, get_video_id_list)\n",
        "\n",
        "video_data_df = pd.DataFrame(video_data)\n",
        "\n",
        "print(video_data_df.head())"
      ]
    },
    {
      "cell_type": "code",
      "execution_count": null,
      "metadata": {
        "id": "AdrOMbZEE_e8"
      },
      "outputs": [],
      "source": [
        "# load the df into a CSV file\n",
        "video_data_df.to_csv('video_data.csv', index=False)\n",
        "channel_info_df.to_csv('channel_data.csv', index=False)\n",
        "\n",
        "# load the df into aa Excel file\n",
        "video_data_df.to_excel('video_data.xlsx', index=False)\n"
      ]
    },
    {
      "cell_type": "code",
      "execution_count": null,
      "metadata": {
        "colab": {
          "base_uri": "https://localhost:8080/",
          "height": 17
        },
        "id": "miZRWZQeFR1E",
        "outputId": "96374433-ca35-4e61-e124-848d22bc2cfd"
      },
      "outputs": [
        {
          "data": {
            "application/javascript": "\n    async function download(id, filename, size) {\n      if (!google.colab.kernel.accessAllowed) {\n        return;\n      }\n      const div = document.createElement('div');\n      const label = document.createElement('label');\n      label.textContent = `Downloading \"${filename}\": `;\n      div.appendChild(label);\n      const progress = document.createElement('progress');\n      progress.max = size;\n      div.appendChild(progress);\n      document.body.appendChild(div);\n\n      const buffers = [];\n      let downloaded = 0;\n\n      const channel = await google.colab.kernel.comms.open(id);\n      // Send a message to notify the kernel that we're ready.\n      channel.send({})\n\n      for await (const message of channel.messages) {\n        // Send a message to notify the kernel that we're ready.\n        channel.send({})\n        if (message.buffers) {\n          for (const buffer of message.buffers) {\n            buffers.push(buffer);\n            downloaded += buffer.byteLength;\n            progress.value = downloaded;\n          }\n        }\n      }\n      const blob = new Blob(buffers, {type: 'application/binary'});\n      const a = document.createElement('a');\n      a.href = window.URL.createObjectURL(blob);\n      a.download = filename;\n      div.appendChild(a);\n      a.click();\n      div.remove();\n    }\n  ",
            "text/plain": [
              "<IPython.core.display.Javascript object>"
            ]
          },
          "metadata": {},
          "output_type": "display_data"
        },
        {
          "data": {
            "application/javascript": "download(\"download_9040bf44-c5df-46f8-b1c5-cb981d1cfcaa\", \"channel_data.csv\", 248)",
            "text/plain": [
              "<IPython.core.display.Javascript object>"
            ]
          },
          "metadata": {},
          "output_type": "display_data"
        }
      ],
      "source": [
        "# Download the dataframe as a CSV file\n",
        "files.download('channel_data.csv')"
      ]
    },
    {
      "cell_type": "code",
      "execution_count": null,
      "metadata": {
        "colab": {
          "base_uri": "https://localhost:8080/",
          "height": 17
        },
        "id": "ALK4c2TBIxy_",
        "outputId": "afccbce6-2367-40f3-ceaf-e154563ef990"
      },
      "outputs": [
        {
          "data": {
            "application/javascript": "\n    async function download(id, filename, size) {\n      if (!google.colab.kernel.accessAllowed) {\n        return;\n      }\n      const div = document.createElement('div');\n      const label = document.createElement('label');\n      label.textContent = `Downloading \"${filename}\": `;\n      div.appendChild(label);\n      const progress = document.createElement('progress');\n      progress.max = size;\n      div.appendChild(progress);\n      document.body.appendChild(div);\n\n      const buffers = [];\n      let downloaded = 0;\n\n      const channel = await google.colab.kernel.comms.open(id);\n      // Send a message to notify the kernel that we're ready.\n      channel.send({})\n\n      for await (const message of channel.messages) {\n        // Send a message to notify the kernel that we're ready.\n        channel.send({})\n        if (message.buffers) {\n          for (const buffer of message.buffers) {\n            buffers.push(buffer);\n            downloaded += buffer.byteLength;\n            progress.value = downloaded;\n          }\n        }\n      }\n      const blob = new Blob(buffers, {type: 'application/binary'});\n      const a = document.createElement('a');\n      a.href = window.URL.createObjectURL(blob);\n      a.download = filename;\n      div.appendChild(a);\n      a.click();\n      div.remove();\n    }\n  ",
            "text/plain": [
              "<IPython.core.display.Javascript object>"
            ]
          },
          "metadata": {},
          "output_type": "display_data"
        },
        {
          "data": {
            "application/javascript": "download(\"download_972ee18e-4bd4-4865-8a04-9dcbb2ca3610\", \"video_data.xlsx\", 445491)",
            "text/plain": [
              "<IPython.core.display.Javascript object>"
            ]
          },
          "metadata": {},
          "output_type": "display_data"
        }
      ],
      "source": [
        "# Download the dataframe as an Excel file\n",
        "files.download('video_data.xlsx')\n"
      ]
    }
  ],
  "metadata": {
    "colab": {
      "provenance": [],
      "toc_visible": true
    },
    "kernelspec": {
      "display_name": "Python 3",
      "name": "python3"
    },
    "language_info": {
      "name": "python"
    }
  },
  "nbformat": 4,
  "nbformat_minor": 0
}
